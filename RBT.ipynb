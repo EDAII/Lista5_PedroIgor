{
 "cells": [
  {
   "cell_type": "code",
   "execution_count": 63,
   "metadata": {},
   "outputs": [
    {
     "name": "stdout",
     "output_type": "stream",
     "text": [
      "None\n"
     ]
    }
   ],
   "source": [
    "BLACK = 'BLACK'\n",
    "RED = 'RED'\n",
    "NIL = 'NIL'\n",
    "\n",
    "\n",
    "class Node:\n",
    "    def __init__(self, value, color, parent, left=None, right=None):\n",
    "        self.value = value\n",
    "        self.color = color\n",
    "        self.parent = parent\n",
    "        self.left = left\n",
    "        self.right = right\n",
    "    def show(node):\n",
    "        parent = node.parent.value if node.parent else None\n",
    "        right = node.right.value if node.right else None\n",
    "        left = node.left.value if node.left else None\n",
    "        print('Valor: '+str(node.value)+' Cor: '+str(node.color)+' Pai: '+str(parent)+' FilhoE: '+str(left)+' FilhoD: '+str(right))\n",
    "class RBTree:\n",
    "    def __init__(self):\n",
    "        self.root = None\n",
    "        self.nil = Node(None, NIL, None)\n",
    "        \n",
    "    def insert(self, node:Node):\n",
    "        if not self.root:\n",
    "            self.caso1(node)\n",
    "        else:\n",
    "            self.caso2(node, self.root)\n",
    "    #Primeira inserção coloca a raiz como preta\n",
    "    def caso1(self, node):\n",
    "        node.color = BLACK\n",
    "        node.left = self.nil\n",
    "        node.right = self.nil\n",
    "        self.root = node\n",
    "        return\n",
    "    #Caso 2 procura o lugar certo de colocar\n",
    "    def caso2(self, node, parent):\n",
    "        if node.value > parent.value:\n",
    "            if parent.right == self.nil:\n",
    "                node.right = self.nil\n",
    "                node.left = self.nil\n",
    "                parent.right = node\n",
    "                return\n",
    "            caso2(node, parent.right)\n",
    "        if node.value < parent.value:\n",
    "            if parent.left == self.nil:\n",
    "                node.left = self.nil\n",
    "                node.right = self.nil\n",
    "                parent.left = node\n",
    "                return\n",
    "            caso2(node, parent.left)\n",
    "        \n",
    "            \n",
    "            \n",
    "        \n",
    "    \n",
    "        \n",
    "    \n",
    "    \n",
    "n = Node(5, RED, None)\n",
    "m = Node(10, RED, None)\n",
    "\n",
    "\n",
    "\n",
    "\n",
    "tree = RBTree()\n",
    "tree.insert(m)\n",
    "tree.insert(n)\n",
    "tree.insert()\n",
    "\n",
    "print(tree.root.right.value)"
   ]
  }
 ],
 "metadata": {
  "kernelspec": {
   "display_name": "Python 3",
   "language": "python",
   "name": "python3"
  },
  "language_info": {
   "codemirror_mode": {
    "name": "ipython",
    "version": 3
   },
   "file_extension": ".py",
   "mimetype": "text/x-python",
   "name": "python",
   "nbconvert_exporter": "python",
   "pygments_lexer": "ipython3",
   "version": "3.7.4"
  }
 },
 "nbformat": 4,
 "nbformat_minor": 2
}
